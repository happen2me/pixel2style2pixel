{
 "cells": [
  {
   "cell_type": "markdown",
   "id": "2a914a96-06ee-4614-b75a-1320724d0bd5",
   "metadata": {},
   "source": [
    "# Train a regressor for the locations of instruments"
   ]
  },
  {
   "cell_type": "code",
   "execution_count": null,
   "id": "1b34cf05-a8ae-47aa-a1b1-08d54ed437e3",
   "metadata": {},
   "outputs": [],
   "source": [
    "import os\n",
    "os.chdir('/home/extra/micheal/pixel2style2pixel')"
   ]
  },
  {
   "cell_type": "markdown",
   "id": "49e47b29-9d8b-47b4-ad3f-ef7dffe6778f",
   "metadata": {},
   "source": [
    "## Design lables\n",
    "\n",
    "- 0: the presence of instruments\n",
    "- 1: x coordinate of instruments\n",
    "- 2: y coordinate of instruments\n",
    "- 3: x span of instruments\n",
    "- 4: y span of instruments\n",
    "- 5: the presence of shadows\n",
    "- 6: x coordinate of shadows\n",
    "- 7: y coordinate of shadows\n",
    "- 8: x span of shadows\n",
    "- 9: y span of shadows"
   ]
  },
  {
   "cell_type": "markdown",
   "id": "fcf39efb-f29b-4dfe-b4c9-eccf2e87e176",
   "metadata": {},
   "source": [
    "## Generate regressor labels from the segmentation\n",
    "\n",
    "Note: the coordinates are **not** normalized"
   ]
  },
  {
   "cell_type": "code",
   "execution_count": null,
   "id": "8fbfc452-20dc-49be-8fd6-1aa151e38647",
   "metadata": {},
   "outputs": [],
   "source": [
    "from utils.regressor_utils import get_coor_avg, attribute_label_from_segmentation"
   ]
  },
  {
   "cell_type": "markdown",
   "id": "14a04b36-d072-47e9-a2df-056414fb5ca3",
   "metadata": {},
   "source": [
    "## Define a regressor"
   ]
  },
  {
   "cell_type": "code",
   "execution_count": null,
   "id": "50eff15a-38dd-4ab4-8de3-241db1240ba7",
   "metadata": {},
   "outputs": [],
   "source": [
    "from models.regressor import Regressor, LightningRegressor\n",
    "\n",
    "regressor = Regressor()"
   ]
  },
  {
   "cell_type": "markdown",
   "id": "14b78dd1-a0c0-4d57-bcdb-1fa3c6c732f7",
   "metadata": {},
   "source": [
    "Test regressor"
   ]
  },
  {
   "cell_type": "code",
   "execution_count": null,
   "id": "4ec708cd-4f35-4df5-ac13-15a4cb586c79",
   "metadata": {},
   "outputs": [],
   "source": [
    "import torch\n",
    "\n",
    "x = torch.randn((4, 1, 256, 256))\n",
    "with torch.no_grad():\n",
    "    output = regressor(x)\n",
    "output.shape"
   ]
  },
  {
   "cell_type": "markdown",
   "id": "bba39a06-e252-4755-a63c-bfe2852ffc38",
   "metadata": {},
   "source": [
    "## Train the regressor"
   ]
  },
  {
   "cell_type": "code",
   "execution_count": null,
   "id": "eaa34b7a-fcd8-48c0-b8b9-0557b8ac863b",
   "metadata": {},
   "outputs": [],
   "source": [
    "from argparse import Namespace\n",
    "import time\n",
    "import sys\n",
    "import pprint\n",
    "import numpy as np\n",
    "from PIL import Image\n",
    "import torch\n",
    "import torchvision.transforms as transforms\n",
    "\n",
    "sys.path.append(\".\")\n",
    "sys.path.append(\"..\")\n",
    "\n",
    "from dataset import augmentations\n",
    "from utils.common import tensor2im, log_input_image\n",
    "from models.psp import pSp\n",
    "\n",
    "# added imports\n",
    "import os\n",
    "import imageio\n",
    "import matplotlib.pyplot as plt\n",
    "from configs.transforms_config import SegToImageTransforms\n",
    "from glob import glob\n",
    "from training.coach import Coach\n",
    "\n",
    "\n",
    "%matplotlib inline\n",
    "%load_ext autoreload\n",
    "%autoreload 2"
   ]
  },
  {
   "cell_type": "code",
   "execution_count": null,
   "id": "1935d5f5-698e-410a-9d46-337e28ba90c0",
   "metadata": {},
   "outputs": [],
   "source": [
    "model_path = '/home/extra/micheal/pixel2style2pixel/experiments/ioct_seg2bscan2/checkpoints/best_model.pt'"
   ]
  },
  {
   "cell_type": "code",
   "execution_count": null,
   "id": "b7ab4f24-ac13-4447-bfb6-194c8eadbd79",
   "metadata": {},
   "outputs": [],
   "source": [
    "ckpt = torch.load(model_path, map_location='cpu')\n",
    "opts = ckpt['opts']\n",
    "optss = Namespace(**opts)\n",
    "optss.batch_size = 8\n",
    "optss.stylegan_weights = model_path\n",
    "optss.load_partial_weights = True\n",
    "\n",
    "coach = Coach(optss)"
   ]
  },
  {
   "cell_type": "code",
   "execution_count": null,
   "id": "147d1ce4-6cf2-496f-a6d3-7e8e4d39fd8d",
   "metadata": {},
   "outputs": [],
   "source": [
    "train_loader = iter(coach.train_dataloader)\n",
    "batch = next(train_loader)\n",
    "test_label = batch[0].float()\n",
    "test_bscan = batch[1].float()\n",
    "print('label shape', test_label.shape)\n",
    "print('bscan shape', test_bscan.shape)"
   ]
  },
  {
   "cell_type": "code",
   "execution_count": null,
   "id": "b8436b7b-ecdb-43d2-a6cf-5936ae42b9ec",
   "metadata": {},
   "outputs": [],
   "source": [
    "# model\n",
    "regressor = LightningRegressor(Regressor())"
   ]
  },
  {
   "cell_type": "code",
   "execution_count": null,
   "id": "2751ec29-9566-42ff-ac5c-b6919789f5ff",
   "metadata": {},
   "outputs": [],
   "source": [
    "# train model\n",
    "trainer = pl.Trainer(gpus=1, max_epochs=100, weights_save_path=\"artifacts/weights/\")\n",
    "trainer.fit(model=regressor, train_dataloaders=coach.train_dataloader, )"
   ]
  },
  {
   "cell_type": "code",
   "execution_count": null,
   "id": "1c891c5c-5f10-48b3-9f8e-5d6f297eaf13",
   "metadata": {},
   "outputs": [],
   "source": [
    "torch.save(regressor.regressor.state_dict(), \"artifacts/weights/regressor.pt\")"
   ]
  },
  {
   "cell_type": "code",
   "execution_count": null,
   "id": "3c052d17-eee0-405b-a3d5-9363285bbc0a",
   "metadata": {},
   "outputs": [],
   "source": [
    "torch.save(regressor.state_dict(), \"artifacts/weights/regressor_pl.pt\")"
   ]
  },
  {
   "cell_type": "code",
   "execution_count": null,
   "id": "deef6078-a01e-463e-9e19-82fbaa1b2505",
   "metadata": {},
   "outputs": [],
   "source": []
  }
 ],
 "metadata": {
  "kernelspec": {
   "display_name": "Python 3.6.7 ('psp_env')",
   "language": "python",
   "name": "python3"
  },
  "language_info": {
   "codemirror_mode": {
    "name": "ipython",
    "version": 3
   },
   "file_extension": ".py",
   "mimetype": "text/x-python",
   "name": "python",
   "nbconvert_exporter": "python",
   "pygments_lexer": "ipython3",
   "version": "3.6.7"
  },
  "vscode": {
   "interpreter": {
    "hash": "dee75520f43c5ee5e24c781e9aa79b8ff16e051ce0a2a9b8894c8d259d6c1da2"
   }
  }
 },
 "nbformat": 4,
 "nbformat_minor": 5
}
